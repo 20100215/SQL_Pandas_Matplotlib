{
 "cells": [
  {
   "cell_type": "markdown",
   "metadata": {},
   "source": [
    "## Data analysis with SQL, Python (Pandas and Matplotlib)"
   ]
  },
  {
   "cell_type": "markdown",
   "metadata": {},
   "source": [
    "Import modules"
   ]
  },
  {
   "cell_type": "code",
   "execution_count": 1,
   "metadata": {},
   "outputs": [],
   "source": [
    "import pandas as pd\n",
    "import numpy as np\n",
    "import matplotlib.pyplot as plt\n",
    "import sqlite3 as sql\n",
    "import warnings\n",
    "warnings.filterwarnings(\"ignore\")"
   ]
  },
  {
   "cell_type": "markdown",
   "metadata": {},
   "source": [
    "Load and clean data"
   ]
  },
  {
   "cell_type": "code",
   "execution_count": 2,
   "metadata": {},
   "outputs": [],
   "source": [
    "storeco = pd.read_csv(\"storeco_data.csv\")\n",
    "storeco.columns = storeco.columns.str.strip()"
   ]
  },
  {
   "cell_type": "code",
   "execution_count": 3,
   "metadata": {},
   "outputs": [
    {
     "data": {
      "text/html": [
       "<div>\n",
       "<style scoped>\n",
       "    .dataframe tbody tr th:only-of-type {\n",
       "        vertical-align: middle;\n",
       "    }\n",
       "\n",
       "    .dataframe tbody tr th {\n",
       "        vertical-align: top;\n",
       "    }\n",
       "\n",
       "    .dataframe thead th {\n",
       "        text-align: right;\n",
       "    }\n",
       "</style>\n",
       "<table border=\"1\" class=\"dataframe\">\n",
       "  <thead>\n",
       "    <tr style=\"text-align: right;\">\n",
       "      <th></th>\n",
       "      <th>dateordered</th>\n",
       "      <th>datereturned</th>\n",
       "      <th>orderstatus</th>\n",
       "      <th>orders</th>\n",
       "    </tr>\n",
       "  </thead>\n",
       "  <tbody>\n",
       "    <tr>\n",
       "      <th>0</th>\n",
       "      <td>12/31/16</td>\n",
       "      <td>1/24/17</td>\n",
       "      <td>returned</td>\n",
       "      <td>1</td>\n",
       "    </tr>\n",
       "    <tr>\n",
       "      <th>1</th>\n",
       "      <td>12/31/16</td>\n",
       "      <td>NaN</td>\n",
       "      <td>complete</td>\n",
       "      <td>8</td>\n",
       "    </tr>\n",
       "    <tr>\n",
       "      <th>2</th>\n",
       "      <td>12/30/16</td>\n",
       "      <td>NaN</td>\n",
       "      <td>complete</td>\n",
       "      <td>14</td>\n",
       "    </tr>\n",
       "    <tr>\n",
       "      <th>3</th>\n",
       "      <td>12/29/16</td>\n",
       "      <td>NaN</td>\n",
       "      <td>complete</td>\n",
       "      <td>14</td>\n",
       "    </tr>\n",
       "    <tr>\n",
       "      <th>4</th>\n",
       "      <td>12/28/16</td>\n",
       "      <td>12/29/16</td>\n",
       "      <td>returned</td>\n",
       "      <td>1</td>\n",
       "    </tr>\n",
       "  </tbody>\n",
       "</table>\n",
       "</div>"
      ],
      "text/plain": [
       "  dateordered datereturned orderstatus  orders\n",
       "0    12/31/16      1/24/17    returned       1\n",
       "1    12/31/16          NaN    complete       8\n",
       "2    12/30/16          NaN    complete      14\n",
       "3    12/29/16          NaN    complete      14\n",
       "4    12/28/16     12/29/16    returned       1"
      ]
     },
     "execution_count": 3,
     "metadata": {},
     "output_type": "execute_result"
    }
   ],
   "source": [
    "storeco.head()"
   ]
  },
  {
   "cell_type": "code",
   "execution_count": 4,
   "metadata": {},
   "outputs": [
    {
     "name": "stdout",
     "output_type": "stream",
     "text": [
      "<class 'pandas.core.frame.DataFrame'>\n",
      "RangeIndex: 213 entries, 0 to 212\n",
      "Data columns (total 4 columns):\n",
      " #   Column        Non-Null Count  Dtype \n",
      "---  ------        --------------  ----- \n",
      " 0   dateordered   213 non-null    object\n",
      " 1   datereturned  60 non-null     object\n",
      " 2   orderstatus   213 non-null    object\n",
      " 3   orders        213 non-null    int64 \n",
      "dtypes: int64(1), object(3)\n",
      "memory usage: 6.8+ KB\n"
     ]
    }
   ],
   "source": [
    "storeco.info()"
   ]
  },
  {
   "cell_type": "markdown",
   "metadata": {},
   "source": [
    "DateTime adjustments"
   ]
  },
  {
   "cell_type": "code",
   "execution_count": 5,
   "metadata": {},
   "outputs": [],
   "source": [
    "storeco['dateordered'] =  pd.to_datetime(storeco['dateordered'],format='%m/%d/%y')\n",
    "storeco['datereturned'] =  pd.to_datetime(storeco['datereturned'],format='%m/%d/%y')"
   ]
  },
  {
   "cell_type": "code",
   "execution_count": 6,
   "metadata": {},
   "outputs": [
    {
     "name": "stdout",
     "output_type": "stream",
     "text": [
      "<class 'pandas.core.frame.DataFrame'>\n",
      "RangeIndex: 213 entries, 0 to 212\n",
      "Data columns (total 4 columns):\n",
      " #   Column        Non-Null Count  Dtype         \n",
      "---  ------        --------------  -----         \n",
      " 0   dateordered   213 non-null    datetime64[ns]\n",
      " 1   datereturned  60 non-null     datetime64[ns]\n",
      " 2   orderstatus   213 non-null    object        \n",
      " 3   orders        213 non-null    int64         \n",
      "dtypes: datetime64[ns](2), int64(1), object(1)\n",
      "memory usage: 6.8+ KB\n"
     ]
    }
   ],
   "source": [
    "storeco.info()"
   ]
  },
  {
   "cell_type": "code",
   "execution_count": 7,
   "metadata": {},
   "outputs": [
    {
     "data": {
      "text/html": [
       "<div>\n",
       "<style scoped>\n",
       "    .dataframe tbody tr th:only-of-type {\n",
       "        vertical-align: middle;\n",
       "    }\n",
       "\n",
       "    .dataframe tbody tr th {\n",
       "        vertical-align: top;\n",
       "    }\n",
       "\n",
       "    .dataframe thead th {\n",
       "        text-align: right;\n",
       "    }\n",
       "</style>\n",
       "<table border=\"1\" class=\"dataframe\">\n",
       "  <thead>\n",
       "    <tr style=\"text-align: right;\">\n",
       "      <th></th>\n",
       "      <th>dateordered</th>\n",
       "      <th>datereturned</th>\n",
       "      <th>orderstatus</th>\n",
       "      <th>orders</th>\n",
       "    </tr>\n",
       "  </thead>\n",
       "  <tbody>\n",
       "    <tr>\n",
       "      <th>0</th>\n",
       "      <td>2016-12-31</td>\n",
       "      <td>2017-01-24</td>\n",
       "      <td>returned</td>\n",
       "      <td>1</td>\n",
       "    </tr>\n",
       "    <tr>\n",
       "      <th>1</th>\n",
       "      <td>2016-12-31</td>\n",
       "      <td>NaT</td>\n",
       "      <td>complete</td>\n",
       "      <td>8</td>\n",
       "    </tr>\n",
       "    <tr>\n",
       "      <th>2</th>\n",
       "      <td>2016-12-30</td>\n",
       "      <td>NaT</td>\n",
       "      <td>complete</td>\n",
       "      <td>14</td>\n",
       "    </tr>\n",
       "    <tr>\n",
       "      <th>3</th>\n",
       "      <td>2016-12-29</td>\n",
       "      <td>NaT</td>\n",
       "      <td>complete</td>\n",
       "      <td>14</td>\n",
       "    </tr>\n",
       "    <tr>\n",
       "      <th>4</th>\n",
       "      <td>2016-12-28</td>\n",
       "      <td>2016-12-29</td>\n",
       "      <td>returned</td>\n",
       "      <td>1</td>\n",
       "    </tr>\n",
       "  </tbody>\n",
       "</table>\n",
       "</div>"
      ],
      "text/plain": [
       "  dateordered datereturned orderstatus  orders\n",
       "0  2016-12-31   2017-01-24    returned       1\n",
       "1  2016-12-31          NaT    complete       8\n",
       "2  2016-12-30          NaT    complete      14\n",
       "3  2016-12-29          NaT    complete      14\n",
       "4  2016-12-28   2016-12-29    returned       1"
      ]
     },
     "execution_count": 7,
     "metadata": {},
     "output_type": "execute_result"
    }
   ],
   "source": [
    "storeco.head()"
   ]
  },
  {
   "cell_type": "markdown",
   "metadata": {},
   "source": [
    "Load data to SQL"
   ]
  },
  {
   "cell_type": "code",
   "execution_count": 8,
   "metadata": {},
   "outputs": [
    {
     "data": {
      "text/plain": [
       "213"
      ]
     },
     "execution_count": 8,
     "metadata": {},
     "output_type": "execute_result"
    }
   ],
   "source": [
    "conn = sql.connect(\"storeco.db\")\n",
    "storeco.to_sql(\"storeco\",conn,if_exists='replace',index=False)"
   ]
  },
  {
   "cell_type": "markdown",
   "metadata": {},
   "source": [
    "Task 1: Crunch the data and determine whether the return rate is trending up or down.\n",
    "- Step 1: Aggregate the data\n",
    "- Step 2: Create a visualization"
   ]
  },
  {
   "cell_type": "code",
   "execution_count": 9,
   "metadata": {},
   "outputs": [
    {
     "data": {
      "text/html": [
       "<div>\n",
       "<style scoped>\n",
       "    .dataframe tbody tr th:only-of-type {\n",
       "        vertical-align: middle;\n",
       "    }\n",
       "\n",
       "    .dataframe tbody tr th {\n",
       "        vertical-align: top;\n",
       "    }\n",
       "\n",
       "    .dataframe thead th {\n",
       "        text-align: right;\n",
       "    }\n",
       "</style>\n",
       "<table border=\"1\" class=\"dataframe\">\n",
       "  <thead>\n",
       "    <tr style=\"text-align: right;\">\n",
       "      <th></th>\n",
       "      <th>Order Month</th>\n",
       "      <th>Total Orders</th>\n",
       "      <th>Completed Orders</th>\n",
       "      <th>Returned Orders</th>\n",
       "      <th>Return Percentage</th>\n",
       "    </tr>\n",
       "  </thead>\n",
       "  <tbody>\n",
       "    <tr>\n",
       "      <th>0</th>\n",
       "      <td>2016-08</td>\n",
       "      <td>149</td>\n",
       "      <td>139</td>\n",
       "      <td>10</td>\n",
       "      <td>6.71</td>\n",
       "    </tr>\n",
       "    <tr>\n",
       "      <th>1</th>\n",
       "      <td>2016-09</td>\n",
       "      <td>143</td>\n",
       "      <td>134</td>\n",
       "      <td>9</td>\n",
       "      <td>6.29</td>\n",
       "    </tr>\n",
       "    <tr>\n",
       "      <th>2</th>\n",
       "      <td>2016-10</td>\n",
       "      <td>180</td>\n",
       "      <td>170</td>\n",
       "      <td>10</td>\n",
       "      <td>5.56</td>\n",
       "    </tr>\n",
       "    <tr>\n",
       "      <th>3</th>\n",
       "      <td>2016-11</td>\n",
       "      <td>226</td>\n",
       "      <td>214</td>\n",
       "      <td>12</td>\n",
       "      <td>5.31</td>\n",
       "    </tr>\n",
       "    <tr>\n",
       "      <th>4</th>\n",
       "      <td>2016-12</td>\n",
       "      <td>395</td>\n",
       "      <td>376</td>\n",
       "      <td>19</td>\n",
       "      <td>4.81</td>\n",
       "    </tr>\n",
       "  </tbody>\n",
       "</table>\n",
       "</div>"
      ],
      "text/plain": [
       "  Order Month  Total Orders  Completed Orders  Returned Orders  \\\n",
       "0     2016-08           149               139               10   \n",
       "1     2016-09           143               134                9   \n",
       "2     2016-10           180               170               10   \n",
       "3     2016-11           226               214               12   \n",
       "4     2016-12           395               376               19   \n",
       "\n",
       "   Return Percentage  \n",
       "0               6.71  \n",
       "1               6.29  \n",
       "2               5.56  \n",
       "3               5.31  \n",
       "4               4.81  "
      ]
     },
     "execution_count": 9,
     "metadata": {},
     "output_type": "execute_result"
    }
   ],
   "source": [
    "# Query\n",
    "query = \"\"\"          \n",
    "    SELECT \n",
    "        strftime('%Y-%m', dateordered) AS 'Order Month',\n",
    "        SUM(orders) AS 'Total Orders',\n",
    "        SUM(CASE WHEN orderstatus = 'returned' THEN 0 ELSE orders END) AS 'Completed Orders',\n",
    "        SUM(CASE WHEN orderstatus = 'complete' THEN 0 ELSE orders END) AS 'Returned Orders',\n",
    "        100*round(SUM(CASE WHEN orderstatus = 'complete' THEN 0 ELSE orders END)/((SUM(orders))*1.00),4) AS 'Return Percentage'\n",
    "    FROM storeco \n",
    "    GROUP BY 1\n",
    "    ORDER BY 1 ASC;               \n",
    "\"\"\"\n",
    "result = pd.read_sql_query(query, conn)\n",
    "result"
   ]
  },
  {
   "cell_type": "code",
   "execution_count": 10,
   "metadata": {},
   "outputs": [
    {
     "data": {
      "image/png": "[encoded data removed]",
      "text/plain": [
       "<Figure size 1500x1000 with 1 Axes>"
      ]
     },
     "metadata": {},
     "output_type": "display_data"
    }
   ],
   "source": [
    "fig, ax = plt.subplots(figsize=(15, 10))\n",
    "\n",
    "returns = result['Returned Orders']\n",
    "completed = result['Completed Orders']\n",
    "total = result['Total Orders']\n",
    "percent = result['Return Percentage']\n",
    "\n",
    "p1 = plt.bar(range(len(returns)),\n",
    " returns, color = 'cornflowerblue')\n",
    "\n",
    "p2 = plt.bar(range(len(completed)),\n",
    " completed, bottom = returns, color = 'sandybrown')\n",
    "\n",
    "\n",
    "ax.set_xticklabels(['0','August', 'September', 'October','November', 'December'], style='italic')\n",
    "plt.xlabel(\"Month\", fontweight='bold', fontsize = 13)\n",
    "plt.ylabel(\"Number of Orders\", fontweight='bold', fontsize = 13)\n",
    "plt.legend((p1[0], p2[0]), ('Returned Orders', 'Completed Orders'))\n",
    "plt.title(\"StoreCo's Completed and Returned Orders, 2016\", fontsize = 16, fontweight = 'bold')\n",
    "\n",
    "for a,b in zip(range(len(total)), total): \n",
    "   plt.text(a, b+5, str(b)+\" total orders\", horizontalalignment='center', color='green', fontweight='bold')\n",
    "\n",
    "for a,b,c  in zip(range(len(percent)), percent, returns): #use percent as the text, and returns as the height\n",
    "   plt.text(a, c/2-4+1, str(round(b,2))+\"% returned\", horizontalalignment='center', color='white', fontweight='bold')\n",
    "\n",
    "plt.savefig('completed_and_returned_orders_trend.png')\n",
    "plt.show()"
   ]
  },
  {
   "cell_type": "markdown",
   "metadata": {},
   "source": [
    "Additional insight: The return rate is going down because completed orders are increasing. The absolute number of returns is staying steady. So we may want to look at why we can't get returns to be any lower (this could be a policy or disclosure change with the customer). Further, please note that in the data set, returns never go higher than one per day."
   ]
  }
 ],
 "metadata": {
  "kernelspec": {
   "display_name": "Python 3",
   "language": "python",
   "name": "python3"
  },
  "language_info": {
   "codemirror_mode": {
    "name": "ipython",
    "version": 3
   },
   "file_extension": ".py",
   "mimetype": "text/x-python",
   "name": "python",
   "nbconvert_exporter": "python",
   "pygments_lexer": "ipython3",
   "version": "3.12.3"
  }
 },
 "nbformat": 4,
 "nbformat_minor": 2
}
